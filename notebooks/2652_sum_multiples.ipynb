{
 "cells": [
  {
   "cell_type": "markdown",
   "id": "0b7dac51",
   "metadata": {},
   "source": [
    "# LeetCode #2652. Sum Multiples"
   ]
  },
  {
   "cell_type": "markdown",
   "id": "26b285f2",
   "metadata": {},
   "source": [
    "---"
   ]
  },
  {
   "cell_type": "markdown",
   "id": "ef6ae2d3",
   "metadata": {},
   "source": [
    "**Prompt:** Given a positive integer n, find the sum of all integers in the range [1, n] inclusive that are divisible by 3, 5, or 7.\n",
    "\n",
    "Return *an integer denoting the sum of all numbers in the given range satisfying the constraint.*"
   ]
  },
  {
   "cell_type": "markdown",
   "id": "267930e7",
   "metadata": {},
   "source": [
    "My first approach was a for loop looking at every number leading up to the input n and adding to the sum if it was divisible by 3, 5, or 7. In Big-O notation, this would be O(n)"
   ]
  },
  {
   "cell_type": "code",
   "execution_count": null,
   "id": "f3a8eb39",
   "metadata": {},
   "outputs": [],
   "source": [
    "class Solution:\n",
    "    def sumOfMultiples(self, n: int) -> int:\n",
    "\n",
    "        sum = 0\n",
    "        i = 1\n",
    "\n",
    "        while i <= n:\n",
    "            if i % 3 == 0:\n",
    "                sum += i\n",
    "            elif i % 5 == 0:\n",
    "                sum += i\n",
    "            elif i % 7 == 0:\n",
    "                sum += i\n",
    "            i += 1\n",
    "        \n",
    "        return sum"
   ]
  },
  {
   "cell_type": "markdown",
   "id": "d25aca82",
   "metadata": {},
   "source": [
    "I realized that actually there instead of iterating through all the numbers up to n, you can mathematically calculate the sum using the formula for the sum of m terms, where m is how many times the factor f evenly divides into n. Then you can weight this value by the factor f.\n",
    "\n",
    "This would give you the equation f * m (m+1) / 2 where m = n // f\n",
    "\n",
    "Because multiples of the base factors can be double counted, I subtracted duplicates by summing the values of multiples of the factors (i.e. 15 is a multiple of 3 and 5)\n",
    "\n",
    "The last step was to add back in the multiple for all 3 factors (105 = 3*5*7) which can be illustrated as the very center of a 3 circle venn-diagram. (I don't know how to add pictures to this Jupyter Notebook)\n",
    "\n",
    "This changes the solution to O(1), which is my first constant time solution for a dynamic input!"
   ]
  },
  {
   "cell_type": "code",
   "execution_count": null,
   "id": "e7621434",
   "metadata": {},
   "outputs": [],
   "source": [
    "class Solution:\n",
    "    def sumOfMultiples(self, n: int) -> int:\n",
    "\n",
    "        sum = 0\n",
    "\n",
    "        n3 = n//3\n",
    "        sum += 3 * n3 * (n3+1) / 2\n",
    "        n5 = n//5\n",
    "        sum += 5 * n5 * (n5+1) / 2\n",
    "        n7 = n//7\n",
    "        sum += 7 * n7 * (n7+1) / 2\n",
    "\n",
    "        # subtract duplicates\n",
    "        # divisible by both 3 and 5\n",
    "        n15 = n//15\n",
    "        sum -= 15 * n15 * (n15+1) / 2\n",
    "        # divisible by both 3 and 7\n",
    "        n21 = n//21\n",
    "        sum -= 21 * n21 * (n21+1) / 2\n",
    "        # divisible by both 5 and 7\n",
    "        n35 = n//35\n",
    "        sum -= 35 * n35 * (n35+1) / 2\n",
    "\n",
    "        n105 = n//105\n",
    "        sum += 105 * n105 * (n105+1) / 2\n",
    "        \n",
    "        return int(sum)"
   ]
  },
  {
   "cell_type": "markdown",
   "id": "14f08289",
   "metadata": {},
   "source": [
    "I further clean up the code by creating a helper function."
   ]
  },
  {
   "cell_type": "code",
   "execution_count": null,
   "id": "93873e49",
   "metadata": {},
   "outputs": [],
   "source": [
    "class Solution:\n",
    "    def sumOfMultiples(self, n: int) -> int:\n",
    "\n",
    "        # completed on 4/23/2023\n",
    "        # O(1) run time using the summation rule where sum of 1 to n is n(n+1)/2\n",
    "\n",
    "        # subtract duplicates\n",
    "        # add back in numbers that are multiples of 3, 5, and 7 (multiple of 105)\n",
    "        sum = 3*self.sumN(n//3) + 5*self.sumN(n//5) + 7*self.sumN(n//7) - 15*self.sumN(n//15) - 21*self.sumN(n//21) - 35*self.sumN(n//35) + 105*self.sumN(n//105)\n",
    "        \n",
    "        return int(sum)\n",
    "\n",
    "    def sumN (self, n:int) -> int:\n",
    "        return n * (n+1) / 2"
   ]
  },
  {
   "cell_type": "code",
   "execution_count": null,
   "id": "e80eb5f0",
   "metadata": {},
   "outputs": [],
   "source": []
  }
 ],
 "metadata": {
  "kernelspec": {
   "display_name": "Python 3 (ipykernel)",
   "language": "python",
   "name": "python3"
  }
 },
 "nbformat": 4,
 "nbformat_minor": 5
}
