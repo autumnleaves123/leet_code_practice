{
 "cells": [
  {
   "cell_type": "markdown",
   "id": "818c35e8",
   "metadata": {},
   "source": [
    "# LeetCode #7. Reverse Integer (Medium)"
   ]
  },
  {
   "cell_type": "markdown",
   "id": "926ea159",
   "metadata": {},
   "source": [
    "---"
   ]
  },
  {
   "cell_type": "markdown",
   "id": "b8554a48",
   "metadata": {},
   "source": [
    "**Prompt:** Given a signed 32-bit integer x, return x with its digits reversed. If reversing x causes the value to go outside the signed 32-bit integer range [-2\\**31, 2\\**31 - 1], then return 0.\n",
    "\n",
    "Assume the environment does not allow you to store 64-bit integers (signed or unsigned)."
   ]
  },
  {
   "cell_type": "markdown",
   "id": "73f1438c",
   "metadata": {},
   "source": [
    "**Example 1:** Output: 321"
   ]
  },
  {
   "cell_type": "code",
   "execution_count": 5,
   "id": "353197c1",
   "metadata": {},
   "outputs": [],
   "source": [
    "x1 = 123"
   ]
  },
  {
   "cell_type": "markdown",
   "id": "7d5c460f",
   "metadata": {},
   "source": [
    "**Example 2:** Output: -321"
   ]
  },
  {
   "cell_type": "code",
   "execution_count": 4,
   "id": "2582b0a6",
   "metadata": {},
   "outputs": [],
   "source": [
    "x2 = -123"
   ]
  },
  {
   "cell_type": "markdown",
   "id": "af05663f",
   "metadata": {},
   "source": [
    "**Example 3:** Output: 21"
   ]
  },
  {
   "cell_type": "code",
   "execution_count": 6,
   "id": "b4b7d9a0",
   "metadata": {},
   "outputs": [],
   "source": [
    "x3 = 120"
   ]
  },
  {
   "cell_type": "markdown",
   "id": "96c75d52",
   "metadata": {},
   "source": [
    "The first approach I chose was quite simple and focused on the mathematical implementation.\n",
    "1. To isolate last digit in base b, perform modulus (remainder division) -- **x%b**\n",
    "2. To remove last digit in base b, perform integer division -- **x//10**\n",
    "3. To increment place of numbers, multiple by b -- **x\\*b**\n",
    "4. Must store sign from beginning because at the end of the integer traversal, it is true that -0 = +0"
   ]
  },
  {
   "cell_type": "markdown",
   "id": "f008bcc0",
   "metadata": {},
   "source": [
    "I took into account the 32-bit integer range constraint with the following conditional equation: (a)\n",
    "    \n",
    "    INT_MIN <= rev_x * 10 + x_last_digit <= INT_MAX\n",
    "\n",
    "and manipulated it into the following conditionals: (b)\n",
    "\n",
    "    (INT_MIN - x_last_digit) <= rev_x * 10 <= (INT_MAX - x_last_digit)\n",
    "    \n",
    "and manipulated further to isolate rev_x, the value to return: (c)\n",
    "\n",
    "    (INT_MIN - x_last_digit) / 10 <= rev_x <= (INT_MAX - x_last_digit) / 10\n",
    "\n",
    "Initially, I was hesitant to use biconditional statement (c) because I did not want to account for partial division and the creation of a decimal (float). For this reason, I chose to base my conditionals on biconditional statement (b)"
   ]
  },
  {
   "cell_type": "markdown",
   "id": "e1474a59",
   "metadata": {},
   "source": [
    "Here is my first solution, which had a runtime of 29 ms and used 13.8MB of memory."
   ]
  },
  {
   "cell_type": "code",
   "execution_count": 8,
   "id": "800035c7",
   "metadata": {},
   "outputs": [],
   "source": [
    "class Solution:\n",
    "    def reverse(self, x: int) -> int:\n",
    "\n",
    "        INT_MIN = -(2**31)\n",
    "        INT_MAX = 2**31 - 1\n",
    "\n",
    "        rev_x = 0\n",
    "\n",
    "        if x < 0:\n",
    "            sign = -1\n",
    "            x = -x\n",
    "        else:\n",
    "            sign = 1\n",
    "        \n",
    "        while x != 0:\n",
    "            \n",
    "            x_last_digit = x % 10\n",
    "\n",
    "            min_rev_x = INT_MIN - x_last_digit\n",
    "            max_rev_x = INT_MAX - x_last_digit\n",
    "\n",
    "            if rev_x*10 >= min_rev_x and rev_x*10 <= max_rev_x:\n",
    "                rev_x = rev_x * 10 + x_last_digit\n",
    "            else:\n",
    "                return 0\n",
    "\n",
    "            x = x // 10\n",
    "\n",
    "        return rev_x * sign"
   ]
  },
  {
   "cell_type": "markdown",
   "id": "86bf8be3",
   "metadata": {},
   "source": [
    "While LeetCode accepted my Python solution, Flo realized that my solution violated the 32-bit range constraint when she used C++ which had the 32-bit compiling constraint. Python for this LeetCode problem was more forgiving.\n",
    "\n",
    "After reasoning through the problem and simulating a simpler version (8-bit range constraint where x = 128), we realized a few things:\n",
    "1. The bit integer violation was occurring when rev_x\\*10 was greater than INT_MAX. We determined that biconditional statement (c) was accurate when integer division was used and resulted in 3 cases, most notably the boundary condition case where rev_x == max_rev_x and the last digit of x to be added to rev_x matters because that digit could cause rev_x to be greater than INT_MAX\n",
    "2. Because I store the sign of x and then force x to be positive to perform the modulus calculation in Python, I do not need a double-sided comparison and effectively the range of values is from 0 to INT_MAX\n",
    "3. The last digit of INT_MAX is one less than the last digit of INT_MIN"
   ]
  },
  {
   "cell_type": "markdown",
   "id": "e74f81d3",
   "metadata": {},
   "source": [
    "Here is my *final solution*, which stays within the bounds of the bit integer range constraint for all calculations completed. The runtime for this solution is 35ms and uses 13.8MB of memory."
   ]
  },
  {
   "cell_type": "code",
   "execution_count": 9,
   "id": "66573092",
   "metadata": {},
   "outputs": [],
   "source": [
    "class Solution:\n",
    "    def reverse(self, x: int) -> int:\n",
    "\n",
    "        # Completed on 4/17/2023\n",
    "\n",
    "        # Defining Constants\n",
    "        INT_MAX = 2**31 - 1\n",
    "        INT_MAX_LAST_DIGIT = INT_MAX % 10\n",
    "        INT_MAX_REV_X = INT_MAX//10\n",
    "        INT_MIN = -(2**31)\n",
    "        INT_MIN_LAST_DIGIT = INT_MAX_LAST_DIGIT + 1\n",
    "\n",
    "        rev_x = 0\n",
    "\n",
    "        # python does not handle modulus of a negative number the way I want, so making x positive and \n",
    "        if x < 0:\n",
    "            sign = -1\n",
    "            # x = -x would not work when x is equal to INT_MIN\n",
    "            # because -INT_MIN is +2**31, which is INT_MAX + 1\n",
    "            # I will create base case to account for this limitation\n",
    "            if x == INT_MIN:\n",
    "                return 0\n",
    "            else:\n",
    "                x = -x\n",
    "        else:\n",
    "            sign = 1\n",
    "        \n",
    "        while x != 0:\n",
    "            \n",
    "            x_last_digit = x % 10\n",
    "            \n",
    "            # rev_x*10 would ALMOST exceed INT_MAX, we need to look at the last digit\n",
    "            if rev_x == INT_MAX_REV_X:\n",
    "                # x was originally negative\n",
    "                if sign == -1 and x_last_digit <= INT_MIN_LAST_DIGIT:\n",
    "                    rev_x = rev_x * 10 + x_last_digit\n",
    "                # x was originally positive\n",
    "                elif sign == 1 and x_last_digit <= INT_MAX_LAST_DIGIT:\n",
    "                    rev_x = rev_x * 10 + x_last_digit\n",
    "                # adding x_last_digit would push us past INT_MIN or INT_MAX\n",
    "                else:\n",
    "                    return 0\n",
    "            # rev_x*10 would exceed INT_MAX\n",
    "            elif rev_x > INT_MAX_REV_X:\n",
    "                return 0\n",
    "            # it is safe to add the last digit\n",
    "            else:\n",
    "                rev_x = rev_x * 10 + x_last_digit\n",
    "\n",
    "            x = x // 10\n",
    "\n",
    "        return rev_x * sign"
   ]
  },
  {
   "cell_type": "code",
   "execution_count": 11,
   "id": "ba05b665",
   "metadata": {},
   "outputs": [
    {
     "ename": "NameError",
     "evalue": "name 'self' is not defined",
     "output_type": "error",
     "traceback": [
      "\u001b[0;31m---------------------------------------------------------------------------\u001b[0m",
      "\u001b[0;31mNameError\u001b[0m                                 Traceback (most recent call last)",
      "Cell \u001b[0;32mIn[11], line 1\u001b[0m\n\u001b[0;32m----> 1\u001b[0m \u001b[38;5;28;43mself\u001b[39;49m\u001b[38;5;241m.\u001b[39mreverse(x1)\n",
      "\u001b[0;31mNameError\u001b[0m: name 'self' is not defined"
     ]
    }
   ],
   "source": [
    "self.reverse(x1)"
   ]
  },
  {
   "cell_type": "code",
   "execution_count": null,
   "id": "70ecabf7",
   "metadata": {},
   "outputs": [],
   "source": []
  }
 ],
 "metadata": {
  "kernelspec": {
   "display_name": "Python 3 (ipykernel)",
   "language": "python",
   "name": "python3"
  },
  "language_info": {
   "codemirror_mode": {
    "name": "ipython",
    "version": 3
   },
   "file_extension": ".py",
   "mimetype": "text/x-python",
   "name": "python",
   "nbconvert_exporter": "python",
   "pygments_lexer": "ipython3",
   "version": "3.11.3"
  }
 },
 "nbformat": 4,
 "nbformat_minor": 5
}
