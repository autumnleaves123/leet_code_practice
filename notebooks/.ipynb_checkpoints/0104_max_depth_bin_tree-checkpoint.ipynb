{
 "cells": [
  {
   "cell_type": "markdown",
   "metadata": {},
   "source": [
    "# LeetCode #104. Maximum Depth of Binary Tree (Easy)"
   ]
  },
  {
   "cell_type": "markdown",
   "metadata": {},
   "source": [
    "---"
   ]
  },
  {
   "cell_type": "markdown",
   "metadata": {},
   "source": [
    "**Prompt:** Given the root of a binary tree, return its maximum depth.\n",
    "\n",
    "A binary tree's maximum depth is the number of nodes along the longest path from the root node down to the farthest leaf node."
   ]
  },
  {
   "cell_type": "code",
   "execution_count": null,
   "metadata": {},
   "outputs": [],
   "source": [
    "class TreeNode:\n",
    "     def __init__(self, val=0, left=None, right=None):\n",
    "         self.val = val\n",
    "         self.left = left\n",
    "         self.right = right"
   ]
  },
  {
   "cell_type": "markdown",
   "metadata": {},
   "source": [
    "**Example:**"
   ]
  },
  {
   "cell_type": "code",
   "execution_count": null,
   "metadata": {},
   "outputs": [],
   "source": [
    "root = [3,9,20,null,null,15,7]"
   ]
  },
  {
   "cell_type": "markdown",
   "metadata": {},
   "source": [
    "The approach I chose was recursion. The two base cases I accounted for are:\n",
    "1. If the current node is NULL because then we would get an error if calling the left or right attributes of a NULL value\n",
    "2. If the current node is a leaf, defined as left **AND** right children are NULL\n",
    "\n",
    "Here is my first iteration after speaking through the logic with Flo.\n",
    "This solution has a **runtime of 42ms** and a **memory of 16 MB**. Takes O(N) time"
   ]
  },
  {
   "cell_type": "code",
   "execution_count": null,
   "metadata": {},
   "outputs": [],
   "source": [
    "class Solution:\n",
    "    def maxDepth(self, root: Optional[TreeNode]) -> int:\n",
    "\n",
    "        # accounting for case where binary tree is null\n",
    "        if not root:\n",
    "            return 0\n",
    "        # base case: leaf is found, which means that left and right are NULL\n",
    "        elif not root.left and not root.right:\n",
    "            # end level\n",
    "            return 1\n",
    "        \n",
    "        # keep track of level and then traverse tree, but only add largest between left and right\n",
    "        return 1 + max(self.maxDepth(root.left),self.maxDepth(root.right))"
   ]
  },
  {
   "cell_type": "code",
   "execution_count": null,
   "metadata": {},
   "outputs": [],
   "source": [
    "output = maxDepth(root)\n",
    "print output"
   ]
  },
  {
   "cell_type": "markdown",
   "metadata": {},
   "source": [
    "I liked how simple and clean the code was, but realized that the code can be further simplified by deleting the second \"base case\" when a leaf is found because while it would take one more recursive stack, the leaf would be caught by the first \"base case\"\n",
    "\n",
    "Here is the second solution with one less \"if\" statement. This solution has a **runtime of 43ms** and a **memory of 16.2MB**, which confirms my hypothesis that with one less \"if\" statement, this function will have to go one step farther for each leaf of the tree."
   ]
  },
  {
   "cell_type": "code",
   "execution_count": null,
   "metadata": {},
   "outputs": [],
   "source": [
    "class Solution:\n",
    "    def maxDepth(self, root: Optional[TreeNode]) -> int:\n",
    "\n",
    "        # accounting for case where binary tree is null\n",
    "        if not root:\n",
    "            return 0\n",
    "        \n",
    "        # keep track of level and then traverse tree, but only add largest between left and right\n",
    "        return 1 + max(self.maxDepth(root.left),self.maxDepth(root.right))"
   ]
  }
 ],
 "metadata": {
  "kernelspec": {
   "display_name": "Python 3 (ipykernel)",
   "language": "python",
   "name": "python3"
  },
  "language_info": {
   "codemirror_mode": {
    "name": "ipython",
    "version": 3
   },
   "file_extension": ".py",
   "mimetype": "text/x-python",
   "name": "python",
   "nbconvert_exporter": "python",
   "pygments_lexer": "ipython3",
   "version": "3.11.3"
  }
 },
 "nbformat": 4,
 "nbformat_minor": 4
}
